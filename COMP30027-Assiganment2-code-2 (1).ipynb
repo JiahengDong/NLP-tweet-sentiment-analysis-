{
 "cells": [
  {
   "cell_type": "markdown",
   "metadata": {},
   "source": [
    "##### The University of Melbourne, School of Computing and Information Systems\n",
    "# COMP30027 Machine Learning, 2022 Semester 1\n",
    "\n",
    "## Assignment 2: Sentiment Classification of Tweets\n",
    "\n",
    "This is a sample code to assist you with vectorising the 'Train' dataset for your assignment 2.\n",
    "\n",
    "First we read the CSV datafiles (Train and Test)."
   ]
  },
  {
   "cell_type": "code",
   "execution_count": 1,
   "metadata": {},
   "outputs": [],
   "source": [
    "import pandas as pd\n",
    "\n",
    "train_data = pd.read_csv(\"Train.csv\", sep=',')\n",
    "test_data = pd.read_csv(\"Test.csv\", sep=',')"
   ]
  },
  {
   "cell_type": "markdown",
   "metadata": {},
   "source": [
    "Then we separate the tweet text and the label (sentiment). "
   ]
  },
  {
   "cell_type": "code",
   "execution_count": 2,
   "metadata": {},
   "outputs": [
    {
     "name": "stdout",
     "output_type": "stream",
     "text": [
      "Train length: 21802\n",
      "Test length: 6099\n"
     ]
    }
   ],
   "source": [
    "#separating instance and label for Train\n",
    "X_train_raw = [x[0] for x in train_data[['text']].values]\n",
    "Y_train = [x[0] for x in train_data[['sentiment']].values]\n",
    "\n",
    "#check the result\n",
    "print(\"Train length:\",len(X_train_raw))\n",
    "\n",
    "#separating instance and label for Test\n",
    "X_test_raw = [x[0] for x in test_data[['text']].values]\n",
    "X_test_id = [x[0] for x in test_data[[\"id\"]].values]\n",
    "#check the result\n",
    "print(\"Test length:\",len(X_test_raw))"
   ]
  },
  {
   "cell_type": "code",
   "execution_count": 3,
   "metadata": {},
   "outputs": [
    {
     "name": "stdout",
     "output_type": "stream",
     "text": [
      " is anybody going to the radio station tomorrow to see shawn? me and my friend may go but we would like to make new friends/meet there (:\t\n"
     ]
    }
   ],
   "source": [
    "#Let's see one example tweet\n",
    "print(X_train_raw[1])"
   ]
  },
  {
   "cell_type": "code",
   "execution_count": 4,
   "metadata": {},
   "outputs": [],
   "source": [
    "#text-preprocessing\n",
    "#retweet, repeatd tweet--Go\n",
    "\n",
    "import string\n",
    "import nltk\n",
    "import re\n",
    "from nltk.stem import WordNetLemmatizer\n",
    "from nltk.corpus import wordnet\n",
    "import contractions\n",
    "import unidecode\n",
    "import numpy as np\n",
    "#remove username---GO\n",
    "#Twitter only allows alphanumeric handles and so [\\w] works as a better regex for this task.\n",
    "def remove_username(text):\n",
    "    result = re.sub('@[\\w]+','',text)\n",
    "    return result\n",
    "\n",
    "#remove url\n",
    "def remove_url(text):\n",
    "    result = re.sub(r'http\\S+', '', text)\n",
    "    return result\n",
    "\n",
    "\n",
    "#remove punctuation---\"!,.?\"...\n",
    "#also remove emoticons-----GO\n",
    "def remove_punctuation(text):\n",
    "    punctuationfree = \"\".join([i for i in text if i not in string.punctuation])\n",
    "    return punctuationfree\n",
    "\n",
    "#Lowering the text---lowercase\n",
    "def text_lower(text):\n",
    "    return text.lower()\n",
    "\n",
    "#expand contractions\n",
    "def expand_contraction(text):\n",
    "    return contractions.fix(text)\n",
    "\n",
    "#tokonization---split the text\n",
    "def tokenization(text):\n",
    "    tokens = re.split(\"\\W\", text)\n",
    "    #delete extra space in text\n",
    "    tokens = [word for word in tokens if word!= \"\"]\n",
    "    return tokens\n",
    "\n",
    "#remove digits and words with digits----GO(from resource)\n",
    "def remove_digit_word(text):\n",
    "    result = [word for word in text if not any(c.isdigit() for c in word)]\n",
    "    return result\n",
    "\n",
    "#convert \"café\" to \"cafe\"\n",
    "def convert_to_ASCII_characters(text):\n",
    "    convertion = [unidecode.unidecode(word) for word in text]\n",
    "    return convertion\n",
    "\n",
    "#remove repeated letters in string---GO----huuuungry\n",
    "def remove_repeated_letters(text):\n",
    "    result = [re.sub(r\"(.)\\1{2,}\", r\"\\1\"*2, word) for word in text]\n",
    "    return result\n",
    "\n",
    "#remove stopwords from the tokenized text----remove commonly used word such as(\"an\",\"a\",\"in\",\"on\")\n",
    "#however we have to remain \"not\", it might have relation with the negative sentement\n",
    "def remove_stopwords(text):\n",
    "    negative_stopwords = [\"not\",\"nor\",\"never\"]\n",
    "    stopwords = nltk.corpus.stopwords.words('english')\n",
    "    output = [i for i in text if i not in stopwords or i in negative_stopwords]\n",
    "    return output\n",
    "\n",
    "#Map POS tag to first character lemmatize() accepts--use to deal with lemmatizing verbs\n",
    "def get_wordnet_pos(word):\n",
    "    tag = nltk.pos_tag([word])[0][1][0].upper()\n",
    "    tag_dict = {\"J\": wordnet.ADJ,\n",
    "                \"N\": wordnet.NOUN,\n",
    "                \"V\": wordnet.VERB,\n",
    "                \"R\": wordnet.ADV}\n",
    "    return tag_dict.get(tag, wordnet.NOUN)\n",
    "\n",
    "#leminization--which does not lose its meaning--make the words to its root\n",
    "def lemmatizer(text):\n",
    "    wordnet_lemmatizer = WordNetLemmatizer()\n",
    "    lemm_text = [wordnet_lemmatizer.lemmatize(word, get_wordnet_pos(word)) for word in text]\n",
    "    return lemm_text\n",
    "\n",
    "\n",
    "def text_clean(text):\n",
    "    text = remove_username(text)\n",
    "    text = remove_url(text)\n",
    "    text = text_lower(text)\n",
    "    text = expand_contraction(text)\n",
    "    #text = remove_punctuation(text)\n",
    "    #no needed due to the tokenization tokens = re.split(\"\\W\", text)\n",
    "    text = tokenization(text)\n",
    "    text = remove_digit_word(text)\n",
    "    text = convert_to_ASCII_characters(text)\n",
    "    text = remove_repeated_letters(text)\n",
    "    text = remove_stopwords(text)\n",
    "    text = lemmatizer(text)\n",
    "    return \" \".join(text)\n",
    "\n",
    "def train_text_deletion(x_train, y_train):\n",
    "    if x_train != False and y_train != False:\n",
    "        for i in range(len(x_train)):\n",
    "            #Any tweet with RT is removed from the training data \n",
    "            #to avoid giving a particular tweet extra weight \n",
    "            #in the training data.\n",
    "            if \"RT.\" in x_train[i]:\n",
    "                x_train.pop(i)\n",
    "                y_train.pop(i)\n",
    "            #check if there is a repeated data, compare the data with the last 100 tweets\n",
    "            #for text in x_train[-100:]:\n",
    "                if x_train[i] == text:\n",
    "                    x_train.pop(i)\n",
    "                    y_train.pop(i)\n",
    "        return x_train, y_train\n",
    "    else:\n",
    "        return False\n",
    "    \n",
    "\n",
    "def data_clean(data_set):\n",
    "    data_set = [text_clean(text) for text in data_set]\n",
    "    return data_set\n",
    "\n"
   ]
  },
  {
   "cell_type": "code",
   "execution_count": 5,
   "metadata": {},
   "outputs": [],
   "source": [
    "x_train,y_train = train_text_deletion(X_train_raw, Y_train)\n",
    "x_train_cleaned = data_clean(x_train)\n",
    "x_test_cleaned = data_clean(X_test_raw)"
   ]
  },
  {
   "cell_type": "code",
   "execution_count": 6,
   "metadata": {},
   "outputs": [
    {
     "data": {
      "text/plain": [
       "['doctor hit campaign trail race medical council election heat homeopathy',\n",
       " 'anybody go radio station tomorrow see shawn friend may go would like make new friend meet',\n",
       " 'found naruto not become hokage',\n",
       " 'prince george reservist die saturday want help people father tell',\n",
       " 'season sun versi nirvana rancak gak slow rockk',\n",
       " 'not would never see sun mtvstars lady gaga',\n",
       " 'cute thisisus',\n",
       " 'today international day elimination violence woman orangetheworld unitednations unodc',\n",
       " 'first game back since april david wright go hr bb three r monday also make two error',\n",
       " 'josh hamilton fly center go bottom tie nevereverquit']"
      ]
     },
     "execution_count": 6,
     "metadata": {},
     "output_type": "execute_result"
    }
   ],
   "source": [
    "x_train_cleaned[:10]"
   ]
  },
  {
   "cell_type": "markdown",
   "metadata": {},
   "source": [
    "### 1. Bag of Words (BoW)\n",
    "In this approach, we use the **CountVectorizer** library to separate all the words in the Train corpus (dataset). These words are then used as the 'vectors' or 'features' to represent each instance (Tweet) in `Train` and `Test` datasets. "
   ]
  },
  {
   "cell_type": "code",
   "execution_count": 7,
   "metadata": {},
   "outputs": [],
   "source": [
    "#not been used\n",
    "#from sklearn.feature_extraction.text import CountVectorizer\n",
    "\n",
    "#BoW_vectorizer = CountVectorizer()\n",
    "\n",
    "#Build the feature set (vocabulary) and vectorise the Tarin dataset using BoW\n",
    "#X_train_BoW = BoW_vectorizer.fit_transform(X_train_raw)\n",
    "\n",
    "#Use the feature set (vocabulary) from Train to vectorise the Test dataset \n",
    "#X_test_BoW = BoW_vectorizer.transform(X_test_raw)\n",
    "\n",
    "#print(\"Train feature space size (using BoW):\",X_train_BoW.shape)\n",
    "#print(\"Test feature space size (using BoW):\",X_test_BoW.shape)"
   ]
  },
  {
   "cell_type": "markdown",
   "metadata": {},
   "source": [
    "Now each row is a list of tuples with the vector_id (word_id in the vocabulary) and the number of times it repeated in that given instance (tweet)."
   ]
  },
  {
   "cell_type": "code",
   "execution_count": 8,
   "metadata": {},
   "outputs": [],
   "source": [
    "#Let's see one example tweet using the BoW feature space\n",
    "#print(X_train_BoW[1])"
   ]
  },
  {
   "cell_type": "markdown",
   "metadata": {},
   "source": [
    "We can save the created vocabulary for the given dataset in a separate file."
   ]
  },
  {
   "cell_type": "code",
   "execution_count": 9,
   "metadata": {},
   "outputs": [],
   "source": [
    "#output_dict = BoW_vectorizer.vocabulary_\n",
    "#output_pd = pd.DataFrame(list(output_dict.items()),columns = ['word','count'])\n",
    "\n",
    "#output_pd.T.to_csv('BoW-vocab.csv',index=False)"
   ]
  },
  {
   "cell_type": "markdown",
   "metadata": {},
   "source": [
    "### 2. TFIDF\n",
    "In this approach, we use the **TfidfVectorizer** library to separate all the words in this corpus (dataset). Same as the BoW approach, these words are then used as the 'vectors' or 'features' to represent each instance (Tweet).\n",
    "\n",
    "However, in this method for each instance the value associated with each 'vector' (word) is not the number of times the word repeated in that tweet, but the TFIDF value of then 'voctor' (word)."
   ]
  },
  {
   "cell_type": "code",
   "execution_count": 10,
   "metadata": {},
   "outputs": [
    {
     "name": "stdout",
     "output_type": "stream",
     "text": [
      "Train feature space size (using TFIDF): (21802, 21746)\n",
      "Test feature space size (using TFIDF): (6099, 21746)\n"
     ]
    }
   ],
   "source": [
    "from sklearn.feature_extraction.text import TfidfVectorizer\n",
    "\n",
    "tfidf_vectorizer = TfidfVectorizer()\n",
    "\n",
    "#Build the feature set (vocabulary) and vectorise the Tarin dataset using TFIDF\n",
    "X_train_tfidf = tfidf_vectorizer.fit_transform(x_train_cleaned)\n",
    "\n",
    "#Use the feature set (vocabulary) from Train to vectorise the Test dataset \n",
    "X_test_tfidf = tfidf_vectorizer.transform(x_test_cleaned)\n",
    "\n",
    "print(\"Train feature space size (using TFIDF):\",X_train_tfidf.shape)\n",
    "print(\"Test feature space size (using TFIDF):\",X_test_tfidf.shape)\n"
   ]
  },
  {
   "cell_type": "code",
   "execution_count": 11,
   "metadata": {},
   "outputs": [
    {
     "name": "stdout",
     "output_type": "stream",
     "text": [
      "  (0, 12015)\t0.2664389914595078\n",
      "  (0, 13073)\t0.19057727023461862\n",
      "  (0, 11613)\t0.1827241688463948\n",
      "  (0, 11143)\t0.17090542556123034\n",
      "  (0, 21361)\t0.19155902915505607\n",
      "  (0, 11882)\t0.13913329743398614\n",
      "  (0, 7403)\t0.5058306055148585\n",
      "  (0, 17173)\t0.24781340833090448\n",
      "  (0, 16937)\t0.168188053819222\n",
      "  (0, 19441)\t0.14686162447680343\n",
      "  (0, 18122)\t0.3488652395417216\n",
      "  (0, 15432)\t0.30845133165868655\n",
      "  (0, 7898)\t0.29306614724920554\n",
      "  (0, 859)\t0.322757268525164\n"
     ]
    }
   ],
   "source": [
    "#Let's see one example tweet using the TFIDF feature space\n",
    "print(X_train_tfidf[1])"
   ]
  },
  {
   "cell_type": "code",
   "execution_count": 12,
   "metadata": {},
   "outputs": [],
   "source": [
    "#used for making the sub training set and sub testing set balanced\n",
    "from imblearn.under_sampling import RandomUnderSampler \n",
    "def x_train_balanced(x_train, y_train):\n",
    "    rus = RandomUnderSampler(random_state=42)\n",
    "    x_train_balanced, y_train_balanced = rus.fit_resample(x_train, y_train)\n",
    "    return x_train_balanced, y_train_balanced"
   ]
  },
  {
   "cell_type": "code",
   "execution_count": 13,
   "metadata": {
    "scrolled": true
   },
   "outputs": [],
   "source": [
    "#split data -- split train set into sub train and sub test(estimate the model performance)\n",
    "#kfold cross validation\n",
    "#for each fold, find its own tfidf for the sub train set -- make the sub test is not seen in the sub train\n",
    "from sklearn.model_selection import KFold\n",
    "\n",
    "test_size = len(x_test_cleaned)\n",
    "train_size = len(x_train_cleaned)\n",
    "k = round(train_size/test_size)\n",
    "\n",
    "kf = KFold(n_splits = k)\n",
    "\n",
    "sub_train_x_set = []\n",
    "sub_test_x_set = []\n",
    "sub_train_y_set = []\n",
    "sub_test_y_set = []\n",
    "real_x_test_set = []\n",
    "tfidf_vectorizer = TfidfVectorizer()\n",
    "for train, test in kf.split(x_train_cleaned):\n",
    "    \n",
    "    x_train_tfidf = tfidf_vectorizer.fit_transform(np.array(x_train_cleaned)[train])\n",
    "    sub_train_y = np.array(y_train)[train]\n",
    "    x_train_tfidf, sub_train_y = x_train_balanced(x_train_tfidf, sub_train_y)\n",
    "    sub_train_x_set.append(x_train_tfidf)\n",
    "    sub_train_y_set.append(sub_train_y)\n",
    "   \n",
    "    \n",
    "    x_test_tfidf = tfidf_vectorizer.transform(np.array(x_train_cleaned)[test])\n",
    "    sub_test_y = np.array(y_train)[test]\n",
    "    x_test_tfidf, sub_test_y = x_train_balanced(x_test_tfidf, sub_test_y)\n",
    "    sub_test_x_set.append(x_test_tfidf)\n",
    "    sub_test_y_set.append(sub_test_y)\n",
    "  \n",
    "    \n",
    "    real_x_test_tfidf = tfidf_vectorizer.transform(x_test_cleaned)\n",
    "    real_x_test_set.append(real_x_test_tfidf)\n",
    "   \n"
   ]
  },
  {
   "cell_type": "code",
   "execution_count": 14,
   "metadata": {},
   "outputs": [],
   "source": [
    "# feature selection -- below are the variance threshold choosing\n",
    "#i consider if the word in all instances apear less than 5 times\n",
    "#then it is not meaningful and general enough\n",
    "\n",
    "#uncomment to see the processing(commented reason -- time consuming)\n",
    "#import statistics\n",
    "\n",
    "#df = pd.DataFrame(X_train_tfidf.toarray(), columns=tfidf_vectorizer.get_feature_names())\n",
    "#rare_words = []\n",
    "\n",
    "#for word in df.columns:\n",
    "#    if len(set(df[word])) <= 5:\n",
    "#        rare_words.append(word)"
   ]
  },
  {
   "cell_type": "code",
   "execution_count": 15,
   "metadata": {},
   "outputs": [],
   "source": [
    "#variance_rare_word = [statistics.variance(df[word]) for word in rare_words]"
   ]
  },
  {
   "cell_type": "code",
   "execution_count": 16,
   "metadata": {},
   "outputs": [],
   "source": [
    "#variance_bound = max(variance_rare_word)\n",
    "#variance_bound\n",
    "#7.859197236708993e-05 -- value of the variance_bound for less than 5 times appearence\n",
    "#0.00018549010422269665 -- value of the variance_bound for less than 20 times appearance"
   ]
  },
  {
   "cell_type": "code",
   "execution_count": 17,
   "metadata": {},
   "outputs": [],
   "source": [
    "#feature selection -- varianceThreshold\n",
    "from sklearn.feature_selection import VarianceThreshold\n",
    "selector = VarianceThreshold(threshold = 7.859197236708993e-05)\n",
    "for i in range(len(sub_train_x_set)):\n",
    "    sub_train_x_set[i] = selector.fit_transform(sub_train_x_set[i])\n",
    "    sub_test_x_set[i] = selector.transform(sub_test_x_set[i])\n",
    "    real_x_test_set[i] = selector.transform(real_x_test_set[i])"
   ]
  },
  {
   "cell_type": "code",
   "execution_count": 18,
   "metadata": {},
   "outputs": [],
   "source": [
    "#feature selection -- chi2 with k=2000\n",
    "#store each fold's features for x_test_cleaned, in order to find predicted labels under each folder's model performance\n",
    "from sklearn.feature_selection import SelectKBest, chi2\n",
    "K_chi2 = SelectKBest(chi2, k=2000)\n",
    "for i in range(len(sub_train_x_set)):\n",
    "    sub_train_x_set[i] = K_chi2.fit_transform(sub_train_x_set[i], sub_train_y_set[i])\n",
    "    sub_test_x_set[i] = K_chi2.transform(sub_test_x_set[i])\n",
    "    real_x_test_set[i] = K_chi2.transform(real_x_test_set[i])"
   ]
  },
  {
   "cell_type": "code",
   "execution_count": 19,
   "metadata": {},
   "outputs": [
    {
     "name": "stdout",
     "output_type": "stream",
     "text": [
      "Baseline Accuracy:  0.5806348041464086\n"
     ]
    }
   ],
   "source": [
    "#baseline model 0-R(not a even distribution, one of the label dominates\n",
    "from sklearn.dummy import DummyClassifier\n",
    "dclf = DummyClassifier(strategy = \"most_frequent\")\n",
    "baseline = dclf.fit(x_train_cleaned, y_train)\n",
    "accuracy_score = baseline.score(x_train_cleaned, y_train)\n",
    "print(\"Baseline Accuracy: \", accuracy_score)"
   ]
  },
  {
   "cell_type": "code",
   "execution_count": 20,
   "metadata": {},
   "outputs": [
    {
     "data": {
      "image/png": "[encoded data removed]",
      "text/plain": [
       "<Figure size 432x288 with 1 Axes>"
      ]
     },
     "metadata": {
      "needs_background": "light"
     },
     "output_type": "display_data"
    }
   ],
   "source": [
    "import matplotlib.pyplot as plt\n",
    "\n",
    "labels = list(set(y_train))\n",
    "num_label = []\n",
    "for label in labels:\n",
    "    num_label.append(y_train.count(label))\n",
    "    \n",
    "plt.bar(labels, num_label)\n",
    "plt.title(\"Labels distribution\")\n",
    "for i in range(len(labels)):\n",
    "    plt.text(x= labels[i] , y = num_label[i] , s=num_label[i])\n",
    "plt.xlabel(\"labels\")\n",
    "plt.ylabel(\"number of each label\")\n",
    "plt.show()"
   ]
  },
  {
   "cell_type": "code",
   "execution_count": 21,
   "metadata": {},
   "outputs": [],
   "source": [
    "#evaluation score\n",
    "#compare macro and weighted in recall/precision/f1 score\n",
    "from sklearn.metrics import precision_score\n",
    "from sklearn.metrics import recall_score\n",
    "from sklearn.metrics import f1_score\n",
    "from sklearn.metrics import accuracy_score\n",
    "def evaluation_scores(sub_test_y_set, sub_predict_y_set):\n",
    "    accuracy = []\n",
    "    precision_macro = []\n",
    "    recall_macro = []\n",
    "    f1_macro = []\n",
    "    precision_weighted = []\n",
    "    recall_weighted = []\n",
    "    f1_weighted = []\n",
    "    for i in range(len(sub_test_y_set)):\n",
    "        a = accuracy_score(sub_test_y_set[i], sub_predict_y_set[i])\n",
    "        accuracy.append(a)\n",
    "        \n",
    "        p_m = precision_score(sub_test_y_set[i], sub_predict_y_set[i], average = \"macro\")\n",
    "        precision_macro.append(p_m)\n",
    "        \n",
    "        r_m = recall_score(sub_test_y_set[i], sub_predict_y_set[i], average = \"macro\")\n",
    "        recall_macro.append(r_m)\n",
    "        \n",
    "        f1_m = f1_score(sub_test_y_set[i], sub_predict_y_set[i], average = \"macro\")\n",
    "        f1_macro.append(f1_m)\n",
    "        \n",
    "        p_w = precision_score(sub_test_y_set[i], sub_predict_y_set[i], average = \"weighted\")\n",
    "        precision_weighted.append(p_w)\n",
    "        \n",
    "        r_w = recall_score(sub_test_y_set[i], sub_predict_y_set[i], average = \"weighted\")\n",
    "        recall_weighted.append(r_w)\n",
    "        \n",
    "        f1_w = f1_score(sub_test_y_set[i], sub_predict_y_set[i], average = \"weighted\")\n",
    "        f1_weighted.append(f1_w)\n",
    "    return np.mean(accuracy), np.mean(precision_macro), np.mean(recall_macro), np.mean(f1_macro), np.mean(precision_macro), np.mean(precision_weighted), np.mean(recall_weighted), np.mean(f1_weighted)"
   ]
  },
  {
   "cell_type": "code",
   "execution_count": 22,
   "metadata": {},
   "outputs": [],
   "source": [
    "#confusion matrix\n",
    "from sklearn.metrics import plot_confusion_matrix\n",
    "import matplotlib.pyplot as plt\n",
    "def confusion_matrix(method, sub_test_x_set, sub_test_y_set):\n",
    "    for i in range(len(sub_test_x_set)):\n",
    "        plot_confusion_matrix(method, sub_test_x_set[i], sub_test_y_set[i])\n",
    "        plt.show()"
   ]
  },
  {
   "cell_type": "code",
   "execution_count": 23,
   "metadata": {},
   "outputs": [],
   "source": [
    "#help to find best hyper parameter\n",
    "from sklearn.experimental import enable_halving_search_cv\n",
    "from sklearn.model_selection import HalvingGridSearchCV\n",
    "def find_optimized_params(method, param_grid, sub_train_x_set, sub_train_y_set):\n",
    "    best_para = []\n",
    "    search = HalvingGridSearchCV(estimator=method, param_grid=param_grid)\n",
    "    for i in range(len(sub_train_x_set)):\n",
    "        model = search.fit(sub_train_x_set[i], sub_train_y_set[i])\n",
    "        best_para.append(model.best_params_)\n",
    "    return best_para\n",
    "\n"
   ]
  },
  {
   "cell_type": "code",
   "execution_count": 24,
   "metadata": {},
   "outputs": [],
   "source": [
    "#if need to see the processing, please uncomment the code below\n",
    "\n",
    "#from sklearn.svm import SVC\n",
    "#param_grid = {\"kernel\": (\"linear\", \"poly\", \"rbf\", \"sigmoid\"), \"degree\":[1,10], \"C\": [1,20], \"decision_function_shape\": (\"ovo\",\"ovr\")}\n",
    "#print(find_optimized_params(SVC(), param_grid, sub_train_x_set, sub_train_y_set))\n",
    "\n",
    "#result of SVC\n",
    "#[{'C': 1, 'decision_function_shape': 'ovo', 'degree': 10, 'kernel': 'linear'}\n",
    "#{'C': 1, 'decision_function_shape': 'ovo', 'degree': 10, 'kernel': 'sigmoid'}\n",
    "#{'C': 1, 'decision_function_shape': 'ovo', 'degree': 1, 'kernel': 'sigmoid'} *\n",
    "#{'C': 1, 'decision_function_shape': 'ovo', 'degree': 1, 'kernel': 'sigmoid'}]\n",
    "\n",
    "#result of balanced svc k = 2000\n",
    "#[{'C': 1, 'decision_function_shape': 'ovr', 'degree': 10, 'kernel': 'sigmoid'}, \n",
    "#{'C': 20, 'decision_function_shape': 'ovr', 'degree': 10, 'kernel': 'rbf'}, \n",
    "#{'C': 1, 'decision_function_shape': 'ovo', 'degree': 1, 'kernel': 'sigmoid'}, \n",
    "#{'C': 20, 'decision_function_shape': 'ovo', 'degree': 10, 'kernel': 'rbf'}]\n",
    "\n",
    "#result of balanced svc k=1000"
   ]
  },
  {
   "cell_type": "code",
   "execution_count": 25,
   "metadata": {},
   "outputs": [],
   "source": [
    "from collections import Counter\n",
    "def majority_vote(real_test_set_predict):\n",
    "    test_predict = []\n",
    "    test_length = len(real_test_set_predict[0])\n",
    "    for i in range(test_length):\n",
    "        vote = Counter([real_test_set_predict[0][i], real_test_set_predict[1][i], real_test_set_predict[2][i], real_test_set_predict[3][i]])\n",
    "        top_one = vote.most_common(1)\n",
    "        test_predict.append(top_one[0][0])\n",
    "    return test_predict"
   ]
  },
  {
   "cell_type": "code",
   "execution_count": 26,
   "metadata": {},
   "outputs": [],
   "source": [
    "#SVM model\n",
    "#parameter-we use majority vote to determin the model hyper parameter\n",
    "#accuary -- as for accuracy, each fold will got an accuracy score based on the model and selected featrues\n",
    "# as for the model performance we just use the mean of the accuracies\n",
    "# as for predict the test set, based on the cv, features might have some differences in each fold\n",
    "# so we collect the predict result of test data under each fold's svc model\n",
    "# then we use majority vote to find the predicted label of each tweet\n",
    "\n",
    "from sklearn.svm import SVC\n",
    "\n",
    "SVM = SVC(kernel = \"rbf\", C = 1, degree = 10, decision_function_shape = \"ovr\")\n",
    "sub_predict_y_set = []\n",
    "training_accuracy = []\n",
    "real_test_set_predict = []\n",
    "for i in range(len(sub_train_x_set)):\n",
    "    model = SVM.fit(sub_train_x_set[i], sub_train_y_set[i])\n",
    "    y_train_predict = SVM.predict(sub_train_x_set[i])\n",
    "    training_accuracy.append(accuracy_score(sub_train_y_set[i], y_train_predict))\n",
    "    y_test_predict = SVM.predict(sub_test_x_set[i])\n",
    "    sub_predict_y_set.append(y_test_predict)\n",
    "    real_test_predict = SVM.predict(real_x_test_set[i])\n",
    "    real_test_set_predict.append(real_test_predict)\n",
    "training_accuracy = np.mean(training_accuracy)\n"
   ]
  },
  {
   "cell_type": "code",
   "execution_count": 27,
   "metadata": {},
   "outputs": [],
   "source": [
    "#in order to produce a csv file\n",
    "\n",
    "#test_label = majority_vote(real_test_set_predict)\n",
    "#final_result = pd.DataFrame({\"id\": X_test_id, \"sentiment\": test_label})\n",
    "#final_result.to_csv(\"predicted.csv\", index = False)"
   ]
  },
  {
   "cell_type": "code",
   "execution_count": 28,
   "metadata": {},
   "outputs": [
    {
     "name": "stdout",
     "output_type": "stream",
     "text": [
      "     svm training accuracy  svm testing accuracy\n",
      "avg               0.913503              0.625117\n",
      "          svm precision score  svm recall score  svm f1 score\n",
      "macro                0.621538          0.625117      0.622871\n",
      "weighted             0.621538          0.625117      0.622871\n"
     ]
    }
   ],
   "source": [
    "#SVM evaluation result\n",
    "accuracy, precision_macro, recall_macro, f1_macro, precision_macro, precision_weighted, recall_weighted, f1_weighted =  evaluation_scores(sub_test_y_set, sub_predict_y_set)\n",
    "acc1 = pd.DataFrame({\"svm training accuracy\": training_accuracy, \"svm testing accuracy\": accuracy}, index =[\"avg\"])\n",
    "evaluation1 = pd.DataFrame({ \"svm precision score\": [precision_macro, precision_weighted], \"svm recall score\": [recall_macro, recall_weighted], \"svm f1 score\": [f1_macro, f1_weighted]}, index = [\"macro\",\"weighted\"])\n",
    "print(acc1)\n",
    "print(evaluation1)"
   ]
  },
  {
   "cell_type": "code",
   "execution_count": 29,
   "metadata": {},
   "outputs": [
    {
     "data": {
      "image/png": "[encoded data removed]",
      "text/plain": [
       "<Figure size 432x288 with 2 Axes>"
      ]
     },
     "metadata": {
      "needs_background": "light"
     },
     "output_type": "display_data"
    },
    {
     "data": {
      "image/png": "[encoded data removed]",
      "text/plain": [
       "<Figure size 432x288 with 2 Axes>"
      ]
     },
     "metadata": {
      "needs_background": "light"
     },
     "output_type": "display_data"
    },
    {
     "data": {
      "image/png": "[encoded data removed]",
      "text/plain": [
       "<Figure size 432x288 with 2 Axes>"
      ]
     },
     "metadata": {
      "needs_background": "light"
     },
     "output_type": "display_data"
    },
    {
     "data": {
      "image/png": "[encoded data removed]",
      "text/plain": [
       "<Figure size 432x288 with 2 Axes>"
      ]
     },
     "metadata": {
      "needs_background": "light"
     },
     "output_type": "display_data"
    }
   ],
   "source": [
    "#print confusion matrix of SVM\n",
    "confusion_matrix(SVM, sub_test_x_set, sub_test_y_set)"
   ]
  },
  {
   "cell_type": "code",
   "execution_count": 30,
   "metadata": {},
   "outputs": [],
   "source": [
    "#find best parameter for Random Forest, uncomment the code below to see the processing\n",
    "\n",
    "#uncomment to see the processing\n",
    "#from sklearn.ensemble import RandomForestClassifier\n",
    "#param_grid = {\"criterion\": (\"gini\",\"entropy\"), \"max_features\": (\"auto\",\"sqrt\",\"log2\"), \"class_weight\": (\"balanced\",\"balanced_subsample\")}\n",
    "#print(find_optimized_params(RandomForestClassifier(), param_grid, sub_train_x_set, sub_train_y_set))\n",
    "\n",
    "#result of rf\n",
    "#[{'class_weight': 'balanced', 'criterion': 'entropy', 'max_features': 'auto'}, \n",
    "#{'class_weight': 'balanced_subsample', 'criterion': 'gini', 'max_features': 'log2'}, \n",
    "#{'class_weight': 'balanced', 'criterion': 'gini', 'max_features': 'log2'}, \n",
    "#{'class_weight': 'balanced_subsample', 'criterion': 'gini', 'max_features': 'log2'}]\n",
    "\n",
    "#result of balanced rf\n",
    "#[{'class_weight': 'balanced_subsample', 'criterion': 'gini', 'max_features': 'log2'}, \n",
    "#{'class_weight': 'balanced', 'criterion': 'gini', 'max_features': 'log2'}, \n",
    "#{'class_weight': 'balanced', 'criterion': 'entropy', 'max_features': 'log2'}, \n",
    "#{'class_weight': 'balanced', 'criterion': 'gini', 'max_features': 'log2'}]"
   ]
  },
  {
   "cell_type": "code",
   "execution_count": 31,
   "metadata": {},
   "outputs": [],
   "source": [
    "#random forest\n",
    "from sklearn.ensemble import RandomForestClassifier\n",
    "\n",
    "RF = RandomForestClassifier(class_weight = \"balanced\", criterion = \"gini\", max_features = \"log2\")\n",
    "sub_predict_y_set = []\n",
    "training_accuracy = []\n",
    "real_test_set_predict = []\n",
    "for i in range(len(sub_train_x_set)):\n",
    "    model = RF.fit(sub_train_x_set[i], sub_train_y_set[i])\n",
    "    y_train_predict = RF.predict(sub_train_x_set[i])\n",
    "    training_accuracy.append(accuracy_score(sub_train_y_set[i], y_train_predict))\n",
    "    y_test_predict = RF.predict(sub_test_x_set[i])\n",
    "    sub_predict_y_set.append(y_test_predict)\n",
    "    real_test_predict = RF.predict(real_x_test_set[i])\n",
    "    real_test_set_predict.append(real_test_predict)\n",
    "training_accuracy = np.mean(training_accuracy)    "
   ]
  },
  {
   "cell_type": "code",
   "execution_count": 32,
   "metadata": {},
   "outputs": [],
   "source": [
    "#produce csv file for rf\n",
    "\n",
    "#test_label = majority_vote(real_test_set_predict)\n",
    "#final_result = pd.DataFrame({\"id\": X_test_id, \"sentiment\": test_label})\n",
    "#final_result.to_csv(\"rf_predicted.csv\", index = False)"
   ]
  },
  {
   "cell_type": "code",
   "execution_count": 33,
   "metadata": {},
   "outputs": [
    {
     "name": "stdout",
     "output_type": "stream",
     "text": [
      "     rf training accuracy  rf testing accuracy\n",
      "avg              0.999376             0.611079\n",
      "          rf precision score  rf recall score  rf f1 score\n",
      "macro               0.606975         0.611079     0.608164\n",
      "weighted            0.606975         0.611079     0.608164\n"
     ]
    }
   ],
   "source": [
    "#RF evaluation result\n",
    "accuracy, precision_macro, recall_macro, f1_macro, precision_macro, precision_weighted, recall_weighted, f1_weighted =  evaluation_scores(sub_test_y_set, sub_predict_y_set)\n",
    "acc = pd.DataFrame({\"rf training accuracy\": training_accuracy, \"rf testing accuracy\": accuracy}, index =[\"avg\"])\n",
    "evaluation = pd.DataFrame({ \"rf precision score\": [precision_macro, precision_weighted], \"rf recall score\": [recall_macro, recall_weighted], \"rf f1 score\": [f1_macro, f1_weighted]}, index = [\"macro\",\"weighted\"])\n",
    "print(acc)\n",
    "print(evaluation)"
   ]
  },
  {
   "cell_type": "code",
   "execution_count": 34,
   "metadata": {},
   "outputs": [
    {
     "data": {
      "image/png": "[encoded data removed]",
      "text/plain": [
       "<Figure size 432x288 with 2 Axes>"
      ]
     },
     "metadata": {
      "needs_background": "light"
     },
     "output_type": "display_data"
    },
    {
     "data": {
      "image/png": "[encoded data removed]",
      "text/plain": [
       "<Figure size 432x288 with 2 Axes>"
      ]
     },
     "metadata": {
      "needs_background": "light"
     },
     "output_type": "display_data"
    },
    {
     "data": {
      "image/png": "[encoded data removed]",
      "text/plain": [
       "<Figure size 432x288 with 2 Axes>"
      ]
     },
     "metadata": {
      "needs_background": "light"
     },
     "output_type": "display_data"
    },
    {
     "data": {
      "image/png": "[encoded data removed]",
      "text/plain": [
       "<Figure size 432x288 with 2 Axes>"
      ]
     },
     "metadata": {
      "needs_background": "light"
     },
     "output_type": "display_data"
    }
   ],
   "source": [
    "#print confusion matrix of RF\n",
    "confusion_matrix(RF, sub_test_x_set, sub_test_y_set)"
   ]
  }
 ],
 "metadata": {
  "kernelspec": {
   "display_name": "Python 3",
   "language": "python",
   "name": "python3"
  },
  "language_info": {
   "codemirror_mode": {
    "name": "ipython",
    "version": 3
   },
   "file_extension": ".py",
   "mimetype": "text/x-python",
   "name": "python",
   "nbconvert_exporter": "python",
   "pygments_lexer": "ipython3",
   "version": "3.6.8"
  }
 },
 "nbformat": 4,
 "nbformat_minor": 4
}
